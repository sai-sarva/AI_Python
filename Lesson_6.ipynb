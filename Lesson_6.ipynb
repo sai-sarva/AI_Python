{
  "cells": [
    {
      "cell_type": "markdown",
      "metadata": {
        "id": "view-in-github",
        "colab_type": "text"
      },
      "source": [
        "<a href=\"https://colab.research.google.com/github/sai-sarva/AI_Python/blob/main/Lesson_6.ipynb\" target=\"_parent\"><img src=\"https://colab.research.google.com/assets/colab-badge.svg\" alt=\"Open In Colab\"/></a>"
      ]
    },
    {
      "cell_type": "markdown",
      "metadata": {
        "id": "N7-Fyxjk4oC2"
      },
      "source": [
        "# Lesson 6: Data in Python"
      ]
    },
    {
      "cell_type": "markdown",
      "metadata": {
        "id": "kAOX6vyI4oC3"
      },
      "source": [
        "There are different types of data in Python. Here, you will see how text and numbers are used in Python."
      ]
    },
    {
      "cell_type": "markdown",
      "metadata": {
        "id": "gPabCLUr4oC3"
      },
      "source": [
        "## Strings"
      ]
    },
    {
      "cell_type": "markdown",
      "metadata": {
        "id": "a-v6NFjj4oC3"
      },
      "source": [
        "Strings are used to store and manipulate text. As you see here, strings are written inside of quotes and can contain letters, numbers, punctuation marks, and other special characters. Run the following cells to print these four different strings."
      ]
    },
    {
      "cell_type": "code",
      "execution_count": 45,
      "metadata": {
        "colab": {
          "base_uri": "https://localhost:8080/"
        },
        "id": "cMG5rLQA4oC4",
        "outputId": "2ce21d2f-504d-408a-c15e-f368f0d1fc53"
      },
      "outputs": [
        {
          "output_type": "stream",
          "name": "stdout",
          "text": [
            "Hello, World\n"
          ]
        }
      ],
      "source": [
        "print(\"Hello, World\")"
      ]
    },
    {
      "cell_type": "code",
      "execution_count": 46,
      "metadata": {
        "colab": {
          "base_uri": "https://localhost:8080/"
        },
        "id": "Cm6Vy1MJ4oC4",
        "outputId": "9026c1a5-7f50-4bca-dd1d-09bf25677cb7"
      },
      "outputs": [
        {
          "output_type": "stream",
          "name": "stdout",
          "text": [
            "My favorite drink is Earl Grey tea.\n"
          ]
        }
      ],
      "source": [
        "print(\"My favorite drink is Earl Grey tea.\")"
      ]
    },
    {
      "cell_type": "code",
      "execution_count": 47,
      "metadata": {
        "colab": {
          "base_uri": "https://localhost:8080/"
        },
        "id": "vOgIHbXH4oC4",
        "outputId": "24d578dc-e106-49b8-cd9a-c259be868524"
      },
      "outputs": [
        {
          "output_type": "stream",
          "name": "stdout",
          "text": [
            "¯\\_(ツ)_/¯\n"
          ]
        }
      ],
      "source": [
        "print(\"¯\\_(ツ)_/¯\")"
      ]
    },
    {
      "cell_type": "code",
      "execution_count": 48,
      "metadata": {
        "colab": {
          "base_uri": "https://localhost:8080/"
        },
        "id": "FuSsQ0OF4oDA",
        "outputId": "78cbe6bf-0a0c-498e-cfb9-cc0c279122e8"
      },
      "outputs": [
        {
          "output_type": "stream",
          "name": "stdout",
          "text": [
            "2.99\n"
          ]
        }
      ],
      "source": [
        "print(\"2.99\")"
      ]
    },
    {
      "cell_type": "markdown",
      "metadata": {
        "id": "n42HET114oDB"
      },
      "source": [
        "## Multiline strings"
      ]
    },
    {
      "cell_type": "markdown",
      "metadata": {
        "id": "tYFI8yXs4oDB"
      },
      "source": [
        "If you use triple quotation marks, you can store a multiline string. These strings can span more than one line. When you run the following cell, you will see how the spaces in the second line are actually read as characters for the string."
      ]
    },
    {
      "cell_type": "code",
      "execution_count": 49,
      "metadata": {
        "colab": {
          "base_uri": "https://localhost:8080/"
        },
        "id": "CwlrB1cB4oDB",
        "outputId": "c9b7e1f1-f892-499f-d8a8-634f266c5462"
      },
      "outputs": [
        {
          "output_type": "stream",
          "name": "stdout",
          "text": [
            "Hello, World!\n",
            "      It's great to be here!\n"
          ]
        }
      ],
      "source": [
        "print(\"\"\"Hello, World!\n",
        "      It's great to be here!\"\"\")"
      ]
    },
    {
      "cell_type": "markdown",
      "metadata": {
        "id": "fybm3x2B4oDC"
      },
      "source": [
        "Trying to define a multiline string using single quotes will lead to errors."
      ]
    },
    {
      "cell_type": "code",
      "execution_count": 50,
      "metadata": {
        "colab": {
          "base_uri": "https://localhost:8080/"
        },
        "id": "UsFuaehp4oDC",
        "outputId": "1495ded7-c6e9-4a85-d5e5-2b417e5dc356"
      },
      "outputs": [
        {
          "output_type": "stream",
          "name": "stdout",
          "text": [
            "Hello, World!      \n",
            "      It's great to be here!\n"
          ]
        }
      ],
      "source": [
        "print(\"\"\"Hello, World!\n",
        "      It's great to be here!\"\"\")"
      ]
    },
    {
      "cell_type": "markdown",
      "metadata": {
        "id": "VRP--rfY4oDC"
      },
      "source": [
        "## The type() function"
      ]
    },
    {
      "cell_type": "markdown",
      "metadata": {
        "id": "uvzBWF1c4oDC"
      },
      "source": [
        "In Python, you can check the type of any data that you are using. To check the data type, you can use the `type()` function. When you run the next cell, you will retrieve the type for the string `\"Andrew\"`."
      ]
    },
    {
      "cell_type": "code",
      "execution_count": 51,
      "metadata": {
        "colab": {
          "base_uri": "https://localhost:8080/"
        },
        "id": "ctGuHhwh4oDC",
        "outputId": "747c137f-c1d1-420d-91ea-72d32b3b12df"
      },
      "outputs": [
        {
          "output_type": "execute_result",
          "data": {
            "text/plain": [
              "str"
            ]
          },
          "metadata": {},
          "execution_count": 51
        }
      ],
      "source": [
        "type(\"Andrew\")"
      ]
    },
    {
      "cell_type": "markdown",
      "metadata": {
        "id": "1qNZirYk4oDC"
      },
      "source": [
        "Python returned `str`, which is short for string. Let's check the type for a multiline string:"
      ]
    },
    {
      "cell_type": "code",
      "execution_count": 52,
      "metadata": {
        "colab": {
          "base_uri": "https://localhost:8080/"
        },
        "id": "64ZvPT9W4oDC",
        "outputId": "fb0a28a7-010a-4d1d-e6ee-f38231442150"
      },
      "outputs": [
        {
          "output_type": "execute_result",
          "data": {
            "text/plain": [
              "str"
            ]
          },
          "metadata": {},
          "execution_count": 52
        }
      ],
      "source": [
        "type(\"\"\"\n",
        "Numbers, text, and truth,\n",
        "Strings, ints, and floats in our code,\n",
        "Data shapes our path\n",
        "\"\"\")"
      ]
    },
    {
      "cell_type": "markdown",
      "metadata": {
        "id": "uWN5bs8U4oDC"
      },
      "source": [
        "This also returns `str`, since it is also a string. Let's try a number within quotation marks:"
      ]
    },
    {
      "cell_type": "code",
      "execution_count": 53,
      "metadata": {
        "colab": {
          "base_uri": "https://localhost:8080/"
        },
        "id": "GxGW7IY94oDC",
        "outputId": "144c7a80-4ab6-487e-d1e1-dfe9a562f0bc"
      },
      "outputs": [
        {
          "output_type": "execute_result",
          "data": {
            "text/plain": [
              "str"
            ]
          },
          "metadata": {},
          "execution_count": 53
        }
      ],
      "source": [
        "type(\"2.99\")"
      ]
    },
    {
      "cell_type": "markdown",
      "metadata": {
        "id": "j9kPMWYq4oDD"
      },
      "source": [
        "This is also a string, even though it looks like a number. By using quotation marks you're telling Python to treat it as text, rather than a number. What about a number without quotes?"
      ]
    },
    {
      "cell_type": "code",
      "execution_count": 54,
      "metadata": {
        "colab": {
          "base_uri": "https://localhost:8080/"
        },
        "id": "k5Uef06_4oDD",
        "outputId": "7f0daa44-cff4-46d7-f3a1-4c27ada7cf79"
      },
      "outputs": [
        {
          "output_type": "execute_result",
          "data": {
            "text/plain": [
              "int"
            ]
          },
          "metadata": {},
          "execution_count": 54
        }
      ],
      "source": [
        "type(100)"
      ]
    },
    {
      "cell_type": "markdown",
      "metadata": {
        "id": "8zAgLiR14oDD"
      },
      "source": [
        "This time you get `int`, which is short for integer. Integers are the positive and negative whole numbers, like 42, 100, -9, and 0. Since there are no quotes around the number Python assumes this is numerical data, and since there is no decimal place on this number, it interprets it as an integer. Now, let's try a number that does have decimal places:"
      ]
    },
    {
      "cell_type": "code",
      "execution_count": 55,
      "metadata": {
        "colab": {
          "base_uri": "https://localhost:8080/"
        },
        "id": "Bd8sAkkE4oDD",
        "outputId": "876321c8-46cb-4d29-cdb0-df35bb87c33d"
      },
      "outputs": [
        {
          "output_type": "execute_result",
          "data": {
            "text/plain": [
              "float"
            ]
          },
          "metadata": {},
          "execution_count": 55
        }
      ],
      "source": [
        "type(2.99)"
      ]
    },
    {
      "cell_type": "markdown",
      "metadata": {
        "id": "zfWztfbu4oDD"
      },
      "source": [
        "The function type gives `float`, which is the data type used to store floating point numbers. Floating point numbers are positive and negative numbers that include a decimal place, like 3.14, 2.99, and -0.003."
      ]
    },
    {
      "cell_type": "markdown",
      "metadata": {
        "id": "a9u3I48P4oDD"
      },
      "source": [
        "## Python as a calculator!"
      ]
    },
    {
      "cell_type": "markdown",
      "metadata": {
        "id": "UswkRZ_Y4oDD"
      },
      "source": [
        "Python works great for quick arithmetic operations. For instance, if you had a lemonade stand, and wanted to compute the total number of sales you made through the last 12 months, you can use Python like this:"
      ]
    },
    {
      "cell_type": "code",
      "execution_count": 56,
      "metadata": {
        "colab": {
          "base_uri": "https://localhost:8080/"
        },
        "id": "ceu_B2aL4oDD",
        "outputId": "21ead297-fab5-4446-c1bc-681058a43eaf"
      },
      "outputs": [
        {
          "output_type": "stream",
          "name": "stdout",
          "text": [
            "675\n"
          ]
        }
      ],
      "source": [
        "print(28+35+43+50+65+70+68+66+75+80+95)"
      ]
    },
    {
      "cell_type": "markdown",
      "metadata": {
        "id": "qscvN30g4oDD"
      },
      "source": [
        "As another example, you can perform more advanced math, like computing the compound interest after 10 years at a rate of 5%. To do that, you can compute 1.05 to the power of 10. Not sure how to do it in Python? You can use the Chatbot!"
      ]
    },
    {
      "cell_type": "markdown",
      "metadata": {
        "id": "ql292yrU4oDD"
      },
      "source": [
        "<p style=\"background-color:#F5C780; padding:15px\"> 🤖 <b>Use the Chatbot</b>: How do I compute 1.05 to the power of 10?\n",
        "</p>"
      ]
    },
    {
      "cell_type": "code",
      "execution_count": 66,
      "metadata": {
        "colab": {
          "base_uri": "https://localhost:8080/"
        },
        "id": "ot759X-G4oDD",
        "outputId": "41fef40c-eb84-49d4-d31a-fa1932ef3901"
      },
      "outputs": [
        {
          "output_type": "stream",
          "name": "stdout",
          "text": [
            "Complete with chatbot code\n",
            "1.628894626777442\n"
          ]
        }
      ],
      "source": [
        "print(\"Complete with chatbot code\")\n",
        "print(1.05 ** 10)"
      ]
    },
    {
      "cell_type": "markdown",
      "metadata": {
        "id": "Knu4rfMJ4oDD"
      },
      "source": [
        "### Order of operations"
      ]
    },
    {
      "cell_type": "markdown",
      "metadata": {
        "id": "dyjcbaeG4oDD"
      },
      "source": [
        "The order of operations in Python is the same as in arithmetic. First, you compute parentheses, then exponents, then you multiply and divide (from left to right), and finally, you add and subtract (from left to right).\n",
        "\n",
        "So, if you are trying to convert from Fahrenheit to Celsius, the following cell will give you an incorrect answer:"
      ]
    },
    {
      "cell_type": "code",
      "execution_count": 58,
      "metadata": {
        "colab": {
          "base_uri": "https://localhost:8080/"
        },
        "id": "biz2nuIQ4oDD",
        "outputId": "4d39dbda-85c7-416c-fff5-4c5159177a63"
      },
      "outputs": [
        {
          "output_type": "stream",
          "name": "stdout",
          "text": [
            "57.22222222222222\n"
          ]
        }
      ],
      "source": [
        "print(75 - 32 * 5 / 9)"
      ]
    },
    {
      "cell_type": "markdown",
      "metadata": {
        "id": "8knxcLRS4oDD"
      },
      "source": [
        "Whereas the computation in this cell is correct."
      ]
    },
    {
      "cell_type": "code",
      "execution_count": 59,
      "metadata": {
        "colab": {
          "base_uri": "https://localhost:8080/"
        },
        "id": "nERVICC64oDD",
        "outputId": "ce4000c1-def3-4dbb-8bec-b9cf3d54c14f"
      },
      "outputs": [
        {
          "output_type": "stream",
          "name": "stdout",
          "text": [
            "23.88888888888889\n"
          ]
        }
      ],
      "source": [
        "print((75 - 32) * 5 / 9)"
      ]
    },
    {
      "cell_type": "markdown",
      "metadata": {
        "id": "QYomt0t_4oDD"
      },
      "source": [
        "### Try for yourself!\n",
        "Try printing text with mixed numbers and letters, or just symbols, then check the type. Try multiline strings using the triple quotes. If you make any mistakes, as the chatbot for help."
      ]
    },
    {
      "cell_type": "code",
      "execution_count": 60,
      "metadata": {
        "colab": {
          "base_uri": "https://localhost:8080/"
        },
        "id": "IXBdemEC4oDE",
        "outputId": "9378bcd7-e21f-49bf-b5d1-5d35a1a72481"
      },
      "outputs": [
        {
          "output_type": "stream",
          "name": "stdout",
          "text": [
            "\n"
          ]
        }
      ],
      "source": [
        "print()"
      ]
    },
    {
      "cell_type": "code",
      "execution_count": 61,
      "metadata": {
        "colab": {
          "base_uri": "https://localhost:8080/"
        },
        "id": "6p2mnNU94oDE",
        "outputId": "20a16fe7-5e5e-4edc-df8c-3cd0aa1e495d"
      },
      "outputs": [
        {
          "output_type": "execute_result",
          "data": {
            "text/plain": [
              "str"
            ]
          },
          "metadata": {},
          "execution_count": 61
        }
      ],
      "source": [
        "type(\"testing\")"
      ]
    },
    {
      "cell_type": "markdown",
      "metadata": {
        "id": "p5Pt65Ux4oDE"
      },
      "source": [
        "Fix the errors in the following code cells."
      ]
    },
    {
      "cell_type": "code",
      "execution_count": 62,
      "metadata": {
        "colab": {
          "base_uri": "https://localhost:8080/"
        },
        "id": "zh_Olwbq4oDE",
        "outputId": "4bc3d7c6-8969-4815-9362-54c5147b6ce9"
      },
      "outputs": [
        {
          "output_type": "stream",
          "name": "stdout",
          "text": [
            "There are 366 days in a leap year\n"
          ]
        }
      ],
      "source": [
        "# Fix the error in the following code\n",
        "print(\"There are 366 days in a leap year\")"
      ]
    },
    {
      "cell_type": "code",
      "execution_count": 63,
      "metadata": {
        "colab": {
          "base_uri": "https://localhost:8080/"
        },
        "id": "rvek7y5B4oDE",
        "outputId": "c75de8c0-586b-443a-e6c5-34a9b7d88fb4"
      },
      "outputs": [
        {
          "output_type": "stream",
          "name": "stdout",
          "text": [
            "There are 366 \n",
            "days in a leap year\n"
          ]
        }
      ],
      "source": [
        "# Fix the error in the following code\n",
        "print(\"\"\"There are 366\n",
        "days in a leap year\"\"\")"
      ]
    },
    {
      "cell_type": "markdown",
      "metadata": {
        "id": "AWspNLl54oDE"
      },
      "source": [
        "A foot was defined as exactly 0.3048 meters in 1959. Convert 6 feet to meters."
      ]
    },
    {
      "cell_type": "code",
      "execution_count": 64,
      "metadata": {
        "colab": {
          "base_uri": "https://localhost:8080/"
        },
        "id": "BUAdEGSW4oDE",
        "outputId": "5c905e22-4af4-4e6a-a895-c86f963ed152"
      },
      "outputs": [
        {
          "output_type": "stream",
          "name": "stdout",
          "text": [
            "Convert 6 feet to meters\n",
            "Converting the 6 feet into meters equates to 1.83\n"
          ]
        }
      ],
      "source": [
        "# Write code to convert 6 feet to meters\n",
        "print(\"Convert 6 feet to meters\")\n",
        "\n",
        "feet = 6\n",
        "meters = feet * 0.3048\n",
        "\n",
        "print(f\"Converting the {feet:.0f} feet into meters equates to {meters:.2f}\")"
      ]
    },
    {
      "cell_type": "code",
      "source": [
        "# prompt: print(f'Converting the 6 feet into meters :', 6 * 0.3048)\n",
        "# how can i use the string formatting. show some examples with the actual data\n",
        "\n",
        "name = \"Alice\"\n",
        "age = 30\n",
        "print(f\"My name is {name} and I am {age} years old.\")\n",
        "\n",
        "# Using different format specifiers\n",
        "number = 3.14159\n",
        "print(f\"The value of pi is approximately {number:.2f}\")  # Format to 2 decimal places\n",
        "\n",
        "# Formatting with different data types\n",
        "price = 19.99\n",
        "quantity = 5\n",
        "total_cost = price * quantity\n",
        "print(f\"The total cost for {quantity} items at ${price:.2f} each is ${total_cost:.2f}\")\n",
        "\n",
        "# Combining with other string operations\n",
        "message = f\"Hello, {name.upper()}!\"\n",
        "print(message)\n"
      ],
      "metadata": {
        "colab": {
          "base_uri": "https://localhost:8080/"
        },
        "id": "YZ998noH6bhV",
        "outputId": "1655f5fb-12ea-45ab-d098-fdeed3b6cf45"
      },
      "execution_count": 65,
      "outputs": [
        {
          "output_type": "stream",
          "name": "stdout",
          "text": [
            "My name is Alice and I am 30 years old.\n",
            "The value of pi is approximately 3.14\n",
            "The total cost for 5 items at $19.99 each is $99.95\n",
            "Hello, ALICE!\n"
          ]
        }
      ]
    }
  ],
  "metadata": {
    "kernelspec": {
      "display_name": "Python 3 (ipykernel)",
      "language": "python",
      "name": "python3"
    },
    "language_info": {
      "codemirror_mode": {
        "name": "ipython",
        "version": 3
      },
      "file_extension": ".py",
      "mimetype": "text/x-python",
      "name": "python",
      "nbconvert_exporter": "python",
      "pygments_lexer": "ipython3",
      "version": "3.9.19"
    },
    "colab": {
      "provenance": [],
      "include_colab_link": true
    }
  },
  "nbformat": 4,
  "nbformat_minor": 0
}