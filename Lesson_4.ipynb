{
  "cells": [
    {
      "cell_type": "markdown",
      "metadata": {
        "id": "view-in-github",
        "colab_type": "text"
      },
      "source": [
        "<a href=\"https://colab.research.google.com/github/sai-sarva/AI_Python/blob/main/Lesson_4.ipynb\" target=\"_parent\"><img src=\"https://colab.research.google.com/assets/colab-badge.svg\" alt=\"Open In Colab\"/></a>"
      ]
    },
    {
      "cell_type": "markdown",
      "metadata": {
        "id": "sbGp8Zf3zqR4"
      },
      "source": [
        "# Lesson 4: Running your first program\n",
        "\n",
        "Now it's your turn to try running Python code!\n",
        "\n",
        "Hit the play button on the video next to this Jupyter notebook to start the video and follow along as Andrew explains how to work through this lesson."
      ]
    },
    {
      "cell_type": "markdown",
      "metadata": {
        "id": "j9RfBcPYzqR5"
      },
      "source": [
        "### 1. Hello, World!\n",
        "\n",
        "Below is the code for the \"Hello, World!\" program that you saw the chatbot write in the previous video.\n",
        "\n",
        "To run the code, click anywhere into the cell (the box with the code inside), and then type `Shift` + `Enter` (`Shift` + `Return` on a Mac) to execute."
      ]
    },
    {
      "cell_type": "code",
      "execution_count": null,
      "metadata": {
        "height": 30,
        "colab": {
          "base_uri": "https://localhost:8080/"
        },
        "id": "7D84c8pnzqR5",
        "outputId": "809b6731-979e-4007-8044-c8f1eefdd9b8"
      },
      "outputs": [
        {
          "output_type": "stream",
          "name": "stdout",
          "text": [
            "Hello, World!\n"
          ]
        }
      ],
      "source": [
        "print(\"Hello, World!\")"
      ]
    },
    {
      "cell_type": "markdown",
      "metadata": {
        "id": "1Ixreca4zqR6"
      },
      "source": [
        "**Congratulations!** You have just joined the millions of people who have started their computer programming adventure by running this simple code!"
      ]
    },
    {
      "cell_type": "markdown",
      "metadata": {
        "id": "T38psPYGzqR6"
      },
      "source": [
        "### 2. Hello, you!\n",
        "\n",
        "Let's create python code to say hello to you, instead of the world. Here are the steps to follow along with Andrew in the video:\n",
        "1. Open the chatbot\n",
        "2. Type in this prompt (substituting your name for mine)\n",
        "\n",
        "            Modify the code below to have it say hello to me.\n",
        "            \n",
        "            print(\"Hello, World!\")\n",
        "            \n",
        "            My name is Andrew\n",
        "   \n",
        "4. Paste the output code in the cell below using `Ctrl`+`V` (`Command`+`C` on a Mac)\n",
        "6. Press `Shift + Enter` to submit your prompt\n",
        "\n",
        "Once the chatbot has returned the code to you, you can copy and paste it into the cell below. Only copy the code in the black box - don't copy any conversation text that the chatbot writes."
      ]
    },
    {
      "cell_type": "code",
      "execution_count": null,
      "metadata": {
        "height": 47,
        "colab": {
          "base_uri": "https://localhost:8080/"
        },
        "id": "1bTRpyL7zqR7",
        "outputId": "cba5e4be-5749-45b2-a723-300c45290d4f"
      },
      "outputs": [
        {
          "output_type": "stream",
          "name": "stdout",
          "text": [
            "Hello, Sai!!\n"
          ]
        }
      ],
      "source": [
        "# PASTE CODE FROM CHATBOT ON THE NEXT LINE IN THIS CELL\n",
        "print(\"Hello, Sai!!\")"
      ]
    },
    {
      "cell_type": "markdown",
      "metadata": {
        "id": "QF4IVnCszqR7"
      },
      "source": [
        "You should see Python print out \"Hello,\" followed by your name above.\n",
        "\n",
        "One other thing to notice here - when you run a code cell, the little square brackets to the left of the cell will change to a number."
      ]
    },
    {
      "cell_type": "markdown",
      "metadata": {
        "id": "JZbr1AZJzqR7"
      },
      "source": [
        "### 3. Say hello to someone you love!\n",
        "\n",
        "Copy and paste (or just type out directly) the \"Hello, World!\" code in the cell below. Then modify the text between the quotation to say hello to your best friend, or favorite pet, or anyone else you love!"
      ]
    },
    {
      "cell_type": "code",
      "execution_count": null,
      "metadata": {
        "height": 47,
        "colab": {
          "base_uri": "https://localhost:8080/"
        },
        "id": "BTIjeJSfzqR8",
        "outputId": "371e12e1-5732-43cb-e4d3-1b0df0bbffe6"
      },
      "outputs": [
        {
          "output_type": "stream",
          "name": "stdout",
          "text": [
            "Hello, Sin!!\n"
          ]
        }
      ],
      "source": [
        "# ADD YOUR CODE ON THE NEXT LINE\n",
        "print('Hello, Sin!!')"
      ]
    },
    {
      "cell_type": "markdown",
      "metadata": {
        "id": "nkacbe91zqR8"
      },
      "source": [
        "### 4. Comments in code\n",
        "You may be wondering what the text is in the cells above that starts with the `#` hash or pound symbol. This is a comment line. It tells Python that it can ignore anything that follows on that line after the `#` symbol. Comments are used to help other humans understand what your code does.\n",
        "\n",
        "Try running the next cell by pressing `Shift`+`Enter` - what do you think will happen?"
      ]
    },
    {
      "cell_type": "code",
      "execution_count": null,
      "metadata": {
        "height": 30,
        "colab": {
          "base_uri": "https://localhost:8080/"
        },
        "id": "IIhEP0LqzqR8",
        "outputId": "d7bdf287-939a-4b4a-dd87-0f65dacb1a15"
      },
      "outputs": [
        {
          "output_type": "stream",
          "name": "stdout",
          "text": [
            "Hello, Sin!!\n"
          ]
        }
      ],
      "source": [
        "# THIS IS A COMMENT - PYTHON WILL IGNORE THIS LINE\n",
        "print(\"Hello, Sin!!\")"
      ]
    },
    {
      "cell_type": "markdown",
      "metadata": {
        "id": "4q9oy4E_zqR8"
      },
      "source": [
        "The cell above runs just like the code you ran before - you saw the `*` appear to the left of the cell, and then change to a number. But this time nothing appeared on the screen.`\n",
        "\n",
        "A comment line is a valid piece of Python code. It tells Python to ignore what follows. Here, Python followed that command exactly, running the code, ignoring the text, and because the code had no output to return to you, it seemed like \"nothing happened.\"\n",
        "\n",
        "Click into the cell below and click `Shift`+`Enter` to run the code - make sure to ask yourself what you think will happen first, and then see if you were right."
      ]
    },
    {
      "cell_type": "code",
      "execution_count": null,
      "metadata": {
        "height": 30,
        "colab": {
          "base_uri": "https://localhost:8080/"
        },
        "id": "yIzSciwkzqR8",
        "outputId": "90da0022-e5ee-4715-9423-bc8ba27d57dc"
      },
      "outputs": [
        {
          "output_type": "stream",
          "name": "stdout",
          "text": [
            "This is a print statement!\n"
          ]
        }
      ],
      "source": [
        "print(\"This is a print statement!\")"
      ]
    },
    {
      "cell_type": "markdown",
      "metadata": {
        "id": "fSD8TcEhzqR9"
      },
      "source": [
        "Now click into the cell again and type a `#` at the start of the line. What do you think this change will result in? Run the cell by pressing `Shift` + `Enter` to check!"
      ]
    },
    {
      "cell_type": "markdown",
      "metadata": {
        "id": "0jyUmASJzqR9"
      },
      "source": [
        "You can have multiple comment lines in your code, including one after another, and dispersed throughout your code:"
      ]
    },
    {
      "cell_type": "code",
      "execution_count": null,
      "metadata": {
        "height": 115,
        "colab": {
          "base_uri": "https://localhost:8080/"
        },
        "id": "wTq3w4T1zqR9",
        "outputId": "440e6d8c-f716-469a-b43d-30f10d7d2fb6"
      },
      "outputs": [
        {
          "output_type": "stream",
          "name": "stdout",
          "text": [
            "Hello, Andrew!\n",
            "How is your day going?\n"
          ]
        }
      ],
      "source": [
        "# This is an example of code with multiple\n",
        "# comments, including this one which\n",
        "# spans multiple lines\n",
        "print(\"Hello, Andrew!\")\n",
        "# Follow up with an additional print command\n",
        "print(\"How is your day going?\")"
      ]
    },
    {
      "cell_type": "markdown",
      "metadata": {
        "id": "65-ORmSezqR9"
      },
      "source": [
        "### 5. Making mistakes is no big deal!\n",
        "\n",
        "Run the code in the next cell to see an example of how Python responds to code with an error in it."
      ]
    },
    {
      "cell_type": "code",
      "execution_count": null,
      "metadata": {
        "height": 30,
        "colab": {
          "base_uri": "https://localhost:8080/"
        },
        "id": "5QGV4eLezqR9",
        "outputId": "22cc8c2e-7de8-4e8f-ac33-d82d99851e40"
      },
      "outputs": [
        {
          "output_type": "stream",
          "name": "stdout",
          "text": [
            "Hello, Andrew!\n"
          ]
        }
      ],
      "source": [
        "print(\"Hello, Andrew!\")"
      ]
    },
    {
      "cell_type": "markdown",
      "metadata": {
        "id": "qN3HrVguzqR9"
      },
      "source": [
        "You can ask the chatbot to help you fix this code:\n",
        "1. Open the chatbot\n",
        "2. Enter the following prompt:\n",
        "\n",
        "       What is wrong with this code, and how do I fix it?\n",
        "\n",
        "       print(\"Hello, Andrew!)\n",
        "\n",
        "Fix the code in the next cell based on the chatbot's recommendation and run the cell using `Shift`+`Enter` to see if the fix worked!"
      ]
    },
    {
      "cell_type": "code",
      "execution_count": null,
      "metadata": {
        "height": 47,
        "colab": {
          "base_uri": "https://localhost:8080/"
        },
        "id": "eR12Mau4zqR9",
        "outputId": "0adbec68-f52c-4579-a1ae-aeab59ddb129"
      },
      "outputs": [
        {
          "output_type": "stream",
          "name": "stdout",
          "text": [
            "Hello, Andrew!\n"
          ]
        }
      ],
      "source": [
        "# Edit the code on the next line to correct the error\n",
        "print(\"Hello, Andrew!\")"
      ]
    },
    {
      "cell_type": "markdown",
      "metadata": {
        "id": "agQsfyQSzqR9"
      },
      "source": [
        "### Practice for yourself!\n",
        "\n",
        "You can practice what you've learned in this lesson by trying out the code exercises below. For each one, follow the instructions in the comment line, then write your code on the next line below the comment. Once you are done, run your code by typing `Shift` + `Enter`. You can do this as many times as you like."
      ]
    },
    {
      "cell_type": "code",
      "execution_count": null,
      "metadata": {
        "height": 30,
        "colab": {
          "base_uri": "https://localhost:8080/"
        },
        "id": "yeleXWLHzqR9",
        "outputId": "dde30ad4-4ba8-4132-91dc-dc1ea5039b96"
      },
      "outputs": [
        {
          "output_type": "stream",
          "name": "stdout",
          "text": [
            "Blue\n"
          ]
        }
      ],
      "source": [
        "# Write code that displays your favorite color\n",
        "print('Blue')"
      ]
    },
    {
      "cell_type": "code",
      "execution_count": null,
      "metadata": {
        "height": 30,
        "colab": {
          "base_uri": "https://localhost:8080/"
        },
        "id": "sUI2HUsGzqR-",
        "outputId": "f5613909-6696-4344-8d97-ac1216d93d1a"
      },
      "outputs": [
        {
          "output_type": "stream",
          "name": "stdout",
          "text": [
            "Feeling good and excited to learn new things!!\n"
          ]
        }
      ],
      "source": [
        "# Write code that answers the question \"How are you feeling today?\"\n",
        "print('Feeling good and excited to learn new things!!')"
      ]
    },
    {
      "cell_type": "code",
      "execution_count": null,
      "metadata": {
        "height": 47,
        "colab": {
          "base_uri": "https://localhost:8080/"
        },
        "id": "xmKErtygzqR-",
        "outputId": "b45d951d-b40e-4aa3-b66e-ae8106896201"
      },
      "outputs": [
        {
          "output_type": "stream",
          "name": "stdout",
          "text": [
            "Don't want to create an error\n"
          ]
        }
      ],
      "source": [
        "# Alter your code from the previous cell so that it will cause an error when you run it\n",
        "print(\"Don't want to create an error\")"
      ]
    },
    {
      "cell_type": "code",
      "execution_count": null,
      "metadata": {
        "height": 64,
        "colab": {
          "base_uri": "https://localhost:8080/"
        },
        "id": "qT00XtwMzqR-",
        "outputId": "38052075-dd3c-4f32-e9f1-537827cc8173"
      },
      "outputs": [
        {
          "output_type": "stream",
          "name": "stdout",
          "text": [
            "Don't want to create an error\n"
          ]
        }
      ],
      "source": [
        "# Ask an LLM to help you fix the error in the code in the previous cell (or fix yourself) and\n",
        "# then type the corrected code on the next line:\n",
        "print(\"Don't want to create an error\")"
      ]
    },
    {
      "cell_type": "code",
      "source": [
        "# prompt: 10 random numbers using numpy\n",
        "\n",
        "import numpy as np\n",
        "\n",
        "random_numbers = np.random.randint(0, 100, 10)\n",
        "print(random_numbers)\n"
      ],
      "metadata": {
        "id": "6t1FaPtS0x24"
      },
      "execution_count": null,
      "outputs": []
    }
  ],
  "metadata": {
    "kernelspec": {
      "display_name": "Python 3 (ipykernel)",
      "language": "python",
      "name": "python3"
    },
    "language_info": {
      "codemirror_mode": {
        "name": "ipython",
        "version": 3
      },
      "file_extension": ".py",
      "mimetype": "text/x-python",
      "name": "python",
      "nbconvert_exporter": "python",
      "pygments_lexer": "ipython3",
      "version": "3.9.19"
    },
    "colab": {
      "provenance": [],
      "include_colab_link": true
    }
  },
  "nbformat": 4,
  "nbformat_minor": 0
}