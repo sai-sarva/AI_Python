{
  "cells": [
    {
      "cell_type": "markdown",
      "metadata": {
        "id": "view-in-github",
        "colab_type": "text"
      },
      "source": [
        "<a href=\"https://colab.research.google.com/github/sai-sarva/AI_Python/blob/main/Lesson_7.ipynb\" target=\"_parent\"><img src=\"https://colab.research.google.com/assets/colab-badge.svg\" alt=\"Open In Colab\"/></a>"
      ]
    },
    {
      "cell_type": "markdown",
      "id": "214ecaa7",
      "metadata": {
        "id": "214ecaa7"
      },
      "source": [
        "# Lesson 7: Displaying text and calculations together"
      ]
    },
    {
      "cell_type": "markdown",
      "id": "7b673ff9",
      "metadata": {
        "id": "7b673ff9"
      },
      "source": [
        "You have seen that strings are used to store text and integers and floats are used to store numbers.\n",
        "\n",
        "<b>Strings</b>:\n",
        "\n",
        "- `\"Hello, world\"`\n",
        "\n",
        "- `\"My favorite drink is Earl Grey tea\"`\n",
        "\n",
        "<b>Integers and floats</b>:\n",
        "\n",
        "- `42`\n",
        "\n",
        "- `3.14`\n",
        "\n",
        "You have also seen that you can display data with `print()`:\n",
        "\n",
        "- `print(\"Hello, World!\")`\n",
        "\n",
        "And you can use Python as a calculator:\n",
        "\n",
        "- `print(3 * 4.5)`\n",
        "\n",
        "In this lesson, you will see how to mix computations and strings together to display results in a readable way using Python's f-strings."
      ]
    },
    {
      "cell_type": "markdown",
      "id": "9e17dcfc",
      "metadata": {
        "id": "9e17dcfc"
      },
      "source": [
        "## Mixing strings with computations or data: f-Strings"
      ]
    },
    {
      "cell_type": "markdown",
      "id": "fe7c44ec",
      "metadata": {
        "id": "fe7c44ec"
      },
      "source": [
        "If you wanted to display the equivalent degrees Celsius to a temperature in degrees Fahrenheit, you would do something like this:"
      ]
    },
    {
      "cell_type": "code",
      "execution_count": 1,
      "id": "b25dbb3d",
      "metadata": {
        "colab": {
          "base_uri": "https://localhost:8080/"
        },
        "id": "b25dbb3d",
        "outputId": "2c4a258b-5b87-428a-8a6a-0e31cdf37dca"
      },
      "outputs": [
        {
          "output_type": "stream",
          "name": "stdout",
          "text": [
            "23.88888888888889\n"
          ]
        }
      ],
      "source": [
        "print(((75 - 32) * 5 / 9))"
      ]
    },
    {
      "cell_type": "markdown",
      "id": "c46cd21a",
      "metadata": {
        "id": "c46cd21a"
      },
      "source": [
        "Now, if you wanted to display that degrees conversion using a string that included the computation, you could try:"
      ]
    },
    {
      "cell_type": "code",
      "execution_count": 2,
      "id": "e0c8dbb3",
      "metadata": {
        "colab": {
          "base_uri": "https://localhost:8080/"
        },
        "id": "e0c8dbb3",
        "outputId": "db21c85c-fc71-4a01-b6ea-5b48d71f1a7c"
      },
      "outputs": [
        {
          "output_type": "stream",
          "name": "stdout",
          "text": [
            "The temperature 75F in degrees Celsius is ((75 - 32) * 5 / 9)C\n"
          ]
        }
      ],
      "source": [
        "print(\"The temperature 75F in degrees Celsius is ((75 - 32) * 5 / 9)C\")"
      ]
    },
    {
      "cell_type": "markdown",
      "id": "96d232d1",
      "metadata": {
        "id": "96d232d1"
      },
      "source": [
        "But that doesn't work. It gives you back the formula, but it doesn't actually convert from degrees Fahrenheit to Celsius.\n",
        "\n",
        "To print the result of the computation within that string rather than just the formula, you can use what is called an <b>f-string</b> in Python which looks like this:"
      ]
    },
    {
      "cell_type": "code",
      "execution_count": 3,
      "id": "a434574b",
      "metadata": {
        "colab": {
          "base_uri": "https://localhost:8080/"
        },
        "id": "a434574b",
        "outputId": "2ba29d8b-aa3d-4aed-a2aa-b556c1fa4f4a"
      },
      "outputs": [
        {
          "output_type": "stream",
          "name": "stdout",
          "text": [
            "The temperature 75F in degrees celsius is 23.88888888888889C\n"
          ]
        }
      ],
      "source": [
        "print(f\"The temperature 75F in degrees celsius is {(75 - 32) * 5 / 9}C\")"
      ]
    },
    {
      "cell_type": "markdown",
      "id": "b0ff33f8",
      "metadata": {
        "id": "b0ff33f8"
      },
      "source": [
        "There, I have written `f` (for formatted) before the quotation marks that denote a string, and I included the computation within curly braces `{(75 - 32) * 5 / 9}`. The `f` character tells Python that the subsequent string has data or computations within any pair of curly braces."
      ]
    },
    {
      "cell_type": "markdown",
      "id": "b8081f54",
      "metadata": {
        "id": "b8081f54"
      },
      "source": [
        "## Determining how data is displayed in f-strings"
      ]
    },
    {
      "cell_type": "markdown",
      "id": "1ad2fbac",
      "metadata": {
        "id": "1ad2fbac"
      },
      "source": [
        "Let's go through another example. You can print Isabel's age as follows:\n"
      ]
    },
    {
      "cell_type": "code",
      "execution_count": 4,
      "id": "11225cfb",
      "metadata": {
        "colab": {
          "base_uri": "https://localhost:8080/"
        },
        "id": "11225cfb",
        "outputId": "b83bcc50-63f3-427c-94f2-ba671e77c121"
      },
      "outputs": [
        {
          "output_type": "stream",
          "name": "stdout",
          "text": [
            "Isabel is 28 years old.\n"
          ]
        }
      ],
      "source": [
        "print(\"Isabel is 28 years old.\")"
      ]
    },
    {
      "cell_type": "markdown",
      "id": "434aa478",
      "metadata": {
        "id": "434aa478"
      },
      "source": [
        "In some countries, there exists the concept of dog age. Since people live longer than dogs on average, someone's dog age is supposed to be one-seventh of their real human age. So, if you wanted to compute and display Isabel's dog age in a readable way, you wouldn't use a regular string like the one below."
      ]
    },
    {
      "cell_type": "code",
      "execution_count": 5,
      "id": "3fb5fdb4",
      "metadata": {
        "colab": {
          "base_uri": "https://localhost:8080/"
        },
        "id": "3fb5fdb4",
        "outputId": "c0fda786-7d24-4360-e94f-c72eb5fefb7a"
      },
      "outputs": [
        {
          "output_type": "stream",
          "name": "stdout",
          "text": [
            "Isabel is 28/7 dog years old.\n"
          ]
        }
      ],
      "source": [
        "print(\"Isabel is 28/7 dog years old.\")"
      ]
    },
    {
      "cell_type": "markdown",
      "id": "aec3622b",
      "metadata": {
        "id": "aec3622b"
      },
      "source": [
        "Instead, you would use an f-string that includes the dog age equivalency computation as in the temperature conversion example."
      ]
    },
    {
      "cell_type": "code",
      "execution_count": 6,
      "id": "8b166959",
      "metadata": {
        "colab": {
          "base_uri": "https://localhost:8080/"
        },
        "id": "8b166959",
        "outputId": "68a2ab5b-0522-4781-963c-5a1cc32fa665"
      },
      "outputs": [
        {
          "output_type": "stream",
          "name": "stdout",
          "text": [
            "Isabel is 4.0 dog years old.\n"
          ]
        }
      ],
      "source": [
        "print(f\"Isabel is {28/7} dog years old.\")"
      ]
    },
    {
      "cell_type": "markdown",
      "id": "8a177221",
      "metadata": {
        "id": "8a177221"
      },
      "source": [
        "Now, you see that the last print statement did work, but it displayed the number with one decimal place. What if you wanted to display a whole number, which is much more natural when speaking about ages? You can use the chatbot to answer that question. Feel free to copy and paste the prompt provided below or use your own, using it as a guideline:\n",
        "\n",
        "<p style=\"background-color:#F5C780; padding:15px\"> 🤖 <b>Use the Chatbot</b>: Modify this code to print the answer without any characters after the decimal place: print(f\"Isabel's dog age is {28/7}.\")  \n",
        "</p>\n"
      ]
    },
    {
      "cell_type": "markdown",
      "id": "60469567",
      "metadata": {
        "id": "60469567"
      },
      "source": [
        "If you used that prompt, or another similar one, you would have gotten the code provided below."
      ]
    },
    {
      "cell_type": "code",
      "execution_count": 7,
      "id": "c8cb9777",
      "metadata": {
        "colab": {
          "base_uri": "https://localhost:8080/"
        },
        "id": "c8cb9777",
        "outputId": "c8493fa6-c45c-4cbe-fcb9-fdc63e854e96"
      },
      "outputs": [
        {
          "output_type": "stream",
          "name": "stdout",
          "text": [
            "Isabel is 4 dog years old.\n"
          ]
        }
      ],
      "source": [
        "print(f\"Isabel is {28/7:.0f} dog years old.\")"
      ]
    },
    {
      "cell_type": "markdown",
      "id": "b8f96a44",
      "metadata": {
        "id": "b8f96a44"
      },
      "source": [
        "In `f\"{28/7:.0f}\"`, the `:.0f` part tells Python to display the result of `28/7` without any decimal places. You don’t need to worry too much about the details, but the `f` in `:.0f` indicates that the number is a floating-point number and should be formatted accordingly. This means it will be rounded to the nearest whole number and displayed without any decimal part."
      ]
    },
    {
      "cell_type": "markdown",
      "id": "abe5e612",
      "metadata": {
        "id": "abe5e612"
      },
      "source": [
        "<b>You just used AI to help you code!</b> You provided it with a piece of code that works in one way (displaying a number with decimal places) and asked it to modify it to work in a different way (displaying a number without decimal places).\n",
        "\n",
        "<b>Congratulations 🎉🎉🎉</b>"
      ]
    },
    {
      "cell_type": "markdown",
      "id": "8b16c40d",
      "metadata": {
        "id": "8b16c40d"
      },
      "source": [
        "## Multi-line f-strings"
      ]
    },
    {
      "cell_type": "markdown",
      "id": "177387db",
      "metadata": {
        "id": "177387db"
      },
      "source": [
        "So far, you have worked with strings that have a relatively small length. For lengthy strings, you will use multi-line strings, which are easier to read in a code editor.\n",
        "\n",
        "The following multi-line f-string includes a description of how Americans use measurements in units that are not in the metric system. It displays the equivalent milliliters (ml) for 8 fluid ounces of milk and the equivalent fluid ounces to 100 ml of water."
      ]
    },
    {
      "cell_type": "code",
      "execution_count": 8,
      "id": "01f5be22",
      "metadata": {
        "colab": {
          "base_uri": "https://localhost:8080/"
        },
        "id": "01f5be22",
        "outputId": "4e404f47-2dd6-4898-c481-0ee2ba5bd48e"
      },
      "outputs": [
        {
          "output_type": "stream",
          "name": "stdout",
          "text": [
            "\n",
            "    Most countries use the metric system for recipe measurement, \n",
            "    but American bakers use a different system. For example, they use \n",
            "    fluid ounces to measure liquids instead of milliliters (ml).\n",
            "    \n",
            "    So you need to convert recipe units to your local measuring system!\n",
            "    \n",
            "    For example, 8 fluid ounces of milk is 236.588 ml.\n",
            "    And 100ml of water is 3.381405650328842 fluid ounces.\n",
            "\n"
          ]
        }
      ],
      "source": [
        "print(f\"\"\"\n",
        "    Most countries use the metric system for recipe measurement,\n",
        "    but American bakers use a different system. For example, they use\n",
        "    fluid ounces to measure liquids instead of milliliters (ml).\n",
        "\n",
        "    So you need to convert recipe units to your local measuring system!\n",
        "\n",
        "    For example, 8 fluid ounces of milk is {8 * 29.5735} ml.\n",
        "    And 100ml of water is {100 / 29.5735} fluid ounces.\n",
        "\"\"\")"
      ]
    },
    {
      "cell_type": "markdown",
      "id": "acc8ec4c",
      "metadata": {
        "id": "acc8ec4c"
      },
      "source": [
        "As you see there, you have to use triple quotes `\"\"\"` instead of single quotes `\"` for multi-line strings, and you have multiple lines with text and computations; but besides that, everything works pretty much the same way."
      ]
    },
    {
      "cell_type": "markdown",
      "id": "65bf114b",
      "metadata": {
        "id": "65bf114b"
      },
      "source": [
        "You may have noticed that the way you are using f-strings right now is not that easy to read. All those numbers inside the curly braces don't let you see at a glance what the output is going to be, and if you have lots of calculations, it can be distracting.\n",
        "\n",
        "In the next lesson, you'll see how to make your code easier to read, more flexible and reusable at the same time."
      ]
    },
    {
      "cell_type": "markdown",
      "id": "630c7ed6",
      "metadata": {
        "id": "630c7ed6"
      },
      "source": [
        "## Extra practice\n",
        "\n",
        "Try the exercises below to practice the concepts from this lesson. Read the comments in each cell with the instructions for each exercise.\n",
        "\n",
        "<b>Feel free to use the chatbot if you need help.</b>"
      ]
    },
    {
      "cell_type": "code",
      "execution_count": 10,
      "id": "98b11e54",
      "metadata": {
        "colab": {
          "base_uri": "https://localhost:8080/"
        },
        "id": "98b11e54",
        "outputId": "9f448917-f465-4128-a031-4f81c2a11830"
      },
      "outputs": [
        {
          "output_type": "stream",
          "name": "stdout",
          "text": [
            "I am 32 years old.\n"
          ]
        }
      ],
      "source": [
        "# Modify the code to print your age\n",
        "print(f\"I am {32} years old.\")"
      ]
    },
    {
      "cell_type": "code",
      "execution_count": 11,
      "id": "e815ac9d",
      "metadata": {
        "colab": {
          "base_uri": "https://localhost:8080/"
        },
        "id": "e815ac9d",
        "outputId": "1f81084a-7787-4d8d-f4cf-b597163709e0"
      },
      "outputs": [
        {
          "output_type": "stream",
          "name": "stdout",
          "text": [
            "There are 52.142857142857146 weeks in a year\n"
          ]
        }
      ],
      "source": [
        "# Fix this code\n",
        "print(f\"There are {365/7} weeks in a year\")"
      ]
    },
    {
      "cell_type": "code",
      "execution_count": 12,
      "id": "1bddecfc",
      "metadata": {
        "colab": {
          "base_uri": "https://localhost:8080/"
        },
        "id": "1bddecfc",
        "outputId": "0c92d2a7-e89a-44ae-8aeb-ee977e68a0b9"
      },
      "outputs": [
        {
          "output_type": "stream",
          "name": "stdout",
          "text": [
            "The area of a square with side 5 cm is 25 cm squared.\n"
          ]
        }
      ],
      "source": [
        "# Complete the code\n",
        "print(f\"The area of a square with side 5 cm is {5 * 5} cm squared.\")"
      ]
    },
    {
      "cell_type": "code",
      "execution_count": 13,
      "id": "fcd07d9b",
      "metadata": {
        "colab": {
          "base_uri": "https://localhost:8080/"
        },
        "id": "fcd07d9b",
        "outputId": "8a18c8ec-a50b-4d4f-db2e-f56ac0bd80f9"
      },
      "outputs": [
        {
          "output_type": "stream",
          "name": "stdout",
          "text": [
            "The house was a good size: 1200 square feet, or 111.5 meters squared!\n"
          ]
        }
      ],
      "source": [
        "# Modify the code to display one decimal place\n",
        "print(f\"The house was a good size: 1200 square feet, or {1200 * 0.092903:.1f} meters squared!\")"
      ]
    },
    {
      "cell_type": "code",
      "source": [],
      "metadata": {
        "id": "U0loeXlK-0uK"
      },
      "id": "U0loeXlK-0uK",
      "execution_count": null,
      "outputs": []
    }
  ],
  "metadata": {
    "kernelspec": {
      "display_name": "Python 3 (ipykernel)",
      "language": "python",
      "name": "python3"
    },
    "language_info": {
      "codemirror_mode": {
        "name": "ipython",
        "version": 3
      },
      "file_extension": ".py",
      "mimetype": "text/x-python",
      "name": "python",
      "nbconvert_exporter": "python",
      "pygments_lexer": "ipython3",
      "version": "3.9.19"
    },
    "colab": {
      "provenance": [],
      "include_colab_link": true
    }
  },
  "nbformat": 4,
  "nbformat_minor": 5
}